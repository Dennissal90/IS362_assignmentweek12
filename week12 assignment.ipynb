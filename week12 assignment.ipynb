{
 "cells": [
  {
   "cell_type": "markdown",
   "id": "07746fb1",
   "metadata": {},
   "source": [
    "# Introduction\n",
    "In this project, we will interact with the New York Times Books API to gather information about bestsellers, categories, and book reviews. This involves making HTTP requests to fetch data such as bestseller lists, current bestselling books in specific categories, and book reviews by specific authors. We will use Python libraries such as `requests` for making API requests and `pandas` for storing and manipulating the data."
   ]
  },
  {
   "cell_type": "markdown",
   "id": "4e9e2fe2",
   "metadata": {},
   "source": [
    "### Step 1: Import Libraries\n",
    "To begin, we need to import the required libraries. Here, we are using `requests` for making HTTP requests and `pandas` for data manipulation and creating dataframes."
   ]
  },
  {
   "cell_type": "code",
   "execution_count": 1,
   "id": "7ceaf86f",
   "metadata": {},
   "outputs": [],
   "source": [
    "import requests\n",
    "import pandas as pd"
   ]
  },
  {
   "cell_type": "code",
   "execution_count": 3,
   "id": "ec532692",
   "metadata": {},
   "outputs": [],
   "source": [
    "API_KEY = 'PV624iSAVG8JrdiaEEoc9dCPVuCBX40d'\n",
    "BASE_URL = 'https://api.nytimes.com/svc/books/v3/'"
   ]
  },
  {
   "cell_type": "markdown",
   "id": "570cc78e",
   "metadata": {},
   "source": [
    "## Step 2: Get All Best Sellers Lists\n",
    "The function `get_best_seller_lists` fetches the names of all the bestseller lists available in the New York Times Books API. This allows us to explore different categories of books such as `hardcover-fiction`, `trade-fiction`, etc.\n"
   ]
  },
  {
   "cell_type": "code",
   "execution_count": 4,
   "id": "3a4bc18b",
   "metadata": {},
   "outputs": [],
   "source": [
    "def get_best_seller_lists():\n",
    "    url = f\"{BASE_URL}lists/names.json?api-key={API_KEY}\"\n",
    "    response = requests.get(url)\n",
    "    if response.status_code == 200:\n",
    "        return response.json()\n",
    "    else:\n",
    "        print(\"Error fetching the list names.\")\n",
    "        return None"
   ]
  },
  {
   "cell_type": "markdown",
   "id": "7137cb45",
   "metadata": {},
   "source": [
    "## Step 3: Get Bestseller List by Category\n",
    "The function `get_bestseller_list` takes a category name as an argument and returns the current bestseller books in that category. This helps us to fetch and analyze books from a specific category such as `hardcover-fiction`.\n"
   ]
  },
  {
   "cell_type": "code",
   "execution_count": 5,
   "id": "c3cc8afe",
   "metadata": {},
   "outputs": [],
   "source": [
    "def get_bestseller_list(category_name):\n",
    "    url = f\"{BASE_URL}lists/current/{category_name}.json?api-key={API_KEY}\"\n",
    "    response = requests.get(url)\n",
    "    if response.status_code == 200:\n",
    "        return response.json()\n",
    "    else:\n",
    "        print(f\"Error fetching the {category_name} list.\")\n",
    "        return None"
   ]
  },
  {
   "cell_type": "markdown",
   "id": "fa893a66",
   "metadata": {},
   "source": [
    "## Step 4: Get Book Reviews by Author\n",
    "The function `get_book_reviews_by_author` fetches reviews based on the author's name. This helps us gather insights and public opinions about a specific author, which could be useful for book enthusiasts and readers.\n"
   ]
  },
  {
   "cell_type": "code",
   "execution_count": 6,
   "id": "2bfad9b5",
   "metadata": {},
   "outputs": [],
   "source": [
    "def get_book_reviews_by_author(author):\n",
    "    url = f\"{BASE_URL}reviews.json?api-key={API_KEY}&author={author}\"\n",
    "    response = requests.get(url)\n",
    "    if response.status_code == 200:\n",
    "        return response.json()\n",
    "    else:\n",
    "        print(f\"Error fetching reviews for author {author}.\")\n",
    "        return None"
   ]
  },
  {
   "cell_type": "markdown",
   "id": "486deafe",
   "metadata": {},
   "source": [
    "## Step 5: Fetch and Display Bestseller Lists\n",
    "Here we use the `get_best_seller_lists` function to fetch a list of bestseller categories. We print the names of the first five categories to give a brief overview of the available lists.\n"
   ]
  },
  {
   "cell_type": "code",
   "execution_count": 7,
   "id": "367dec36",
   "metadata": {},
   "outputs": [
    {
     "name": "stdout",
     "output_type": "stream",
     "text": [
      "NYT Bestseller Lists:\n",
      "List Name: Combined Print and E-Book Fiction, Updated: WEEKLY\n",
      "List Name: Combined Print and E-Book Nonfiction, Updated: WEEKLY\n",
      "List Name: Hardcover Fiction, Updated: WEEKLY\n",
      "List Name: Hardcover Nonfiction, Updated: WEEKLY\n",
      "List Name: Trade Fiction Paperback, Updated: WEEKLY\n"
     ]
    }
   ],
   "source": [
    "bestseller_lists = get_best_seller_lists()\n",
    "if bestseller_lists:\n",
    "    lists = bestseller_lists.get(\"results\", [])\n",
    "    print(\"NYT Bestseller Lists:\")\n",
    "    for item in lists[:5]:  # Display first 5 bestseller categories\n",
    "        print(f\"List Name: {item['list_name']}, Updated: {item['updated']}\")\n"
   ]
  },
  {
   "cell_type": "markdown",
   "id": "d3fc5fe7",
   "metadata": {},
   "source": [
    "## Step 6: Fetch and Display Books from a Bestseller List\n",
    "We then fetch the current bestsellers from the category `hardcover-fiction` using the `get_bestseller_list` function. The book information, including title, author, publisher, and rank, is stored in a pandas DataFrame for further analysis or visualization.\n"
   ]
  },
  {
   "cell_type": "code",
   "execution_count": 14,
   "id": "2ffb477e",
   "metadata": {},
   "outputs": [
    {
     "name": "stdout",
     "output_type": "stream",
     "text": [
      "\n",
      "Current Bestsellers - Hardcover Fiction:\n",
      "                                Title                      Author  \\\n",
      "0                       THE GREY WOLF                Louise Penny   \n",
      "1                   THRONE OF SECRETS            Kerri Maniscalco   \n",
      "2                         IN TOO DEEP  Lee Child and Andrew Child   \n",
      "3                           THE WOMEN              Kristin Hannah   \n",
      "4                   COUNTING MIRACLES             Nicholas Sparks   \n",
      "5                         THE WAITING            Michael Connelly   \n",
      "6                          IRON FLAME              Rebecca Yarros   \n",
      "7                       THE BLUE HOUR               Paula Hawkins   \n",
      "8             BLOOD OVER BRIGHT HAVEN                   M.L. Wang   \n",
      "9                          INTERMEZZO                Sally Rooney   \n",
      "10               THE GOD OF THE WOODS                   Liz Moore   \n",
      "11                   LEGENDS & LATTES              Travis Baldree   \n",
      "12  THE SEVEN HUSBANDS OF EVELYN HUGO         Taylor Jenkins Reid   \n",
      "13                              JAMES            Percival Everett   \n",
      "14                    HERE ONE MOMENT              Liane Moriarty   \n",
      "\n",
      "                    Publisher  Rank  \n",
      "0                    Minotaur     1  \n",
      "1               Little, Brown     2  \n",
      "2                   Delacorte     3  \n",
      "3                St. Martin's     4  \n",
      "4                Random House     5  \n",
      "5               Little, Brown     6  \n",
      "6                   Red Tower     7  \n",
      "7                     Mariner     8  \n",
      "8                     Del Rey     9  \n",
      "9   Farrar, Straus and Giroux    10  \n",
      "10                  Riverhead    11  \n",
      "11                        Tor    12  \n",
      "12                      Atria    13  \n",
      "13                  Doubleday    14  \n",
      "14                      Crown    15  \n"
     ]
    }
   ],
   "source": [
    "category = 'hardcover-fiction'\n",
    "bestseller_list = get_bestseller_list(category)\n",
    "if bestseller_list:\n",
    "    books = bestseller_list.get(\"results\", {}).get(\"books\", [])\n",
    "    books_data = []\n",
    "    for book in books:\n",
    "        books_data.append({\n",
    "            \"Title\": book[\"title\"],\n",
    "            \"Author\": book[\"author\"],\n",
    "            \"Publisher\": book[\"publisher\"],\n",
    "            \"Rank\": book[\"rank\"]\n",
    "        })\n",
    "\n",
    "    df_books = pd.DataFrame(books_data)\n",
    "    print(\"\\nCurrent Bestsellers - Hardcover Fiction:\")\n",
    "    print(df_books)"
   ]
  },
  {
   "cell_type": "markdown",
   "id": "7026b3ac",
   "metadata": {},
   "source": [
    "## Step 7: Fetch and Display Book Reviews by Author\n",
    "Finally, we use the `get_book_reviews_by_author` function to fetch reviews for books written by `Thomas Sowell`. The reviews' information, including the title and summary, is stored in a pandas DataFrame to make it easy to read and analyze."
   ]
  },
  {
   "cell_type": "code",
   "execution_count": 21,
   "id": "1d74a330",
   "metadata": {},
   "outputs": [
    {
     "name": "stdout",
     "output_type": "stream",
     "text": [
      "\n",
      "Reviews for Author - Thomas Sowell:\n",
      "                                               Title Summary\n",
      "0                          Inside American Education        \n",
      "1             Migrations and Cultures : A World View        \n",
      "2                                Conflict of Visions        \n",
      "3  Economics and Politics of Race : An Internatio...        \n",
      "4                                   Personal Odyssey        \n",
      "5  Preferential Policies : An International Persp...        \n",
      "6                           Quest for Cosmic Justice        \n",
      "7                          Ethnic America: A History        \n",
      "8  A Conflict of Visions: Ideological Origins of ...        \n"
     ]
    }
   ],
   "source": [
    "author = 'Thomas Sowell'\n",
    "reviews = get_book_reviews_by_author(author)\n",
    "if reviews:\n",
    "    reviews_data = reviews.get(\"results\", [])\n",
    "    reviews_info = []\n",
    "    for review in reviews_data:\n",
    "        reviews_info.append({\n",
    "            \"Title\": review[\"book_title\"],\n",
    "            \"Summary\": review[\"summary\"]\n",
    "        })\n",
    "\n",
    "    df_reviews = pd.DataFrame(reviews_info)\n",
    "    print(\"\\nReviews for Author - Thomas Sowell:\")\n",
    "    print(df_reviews)\n"
   ]
  }
 ],
 "metadata": {
  "kernelspec": {
   "display_name": "Python 3 (ipykernel)",
   "language": "python",
   "name": "python3"
  },
  "language_info": {
   "codemirror_mode": {
    "name": "ipython",
    "version": 3
   },
   "file_extension": ".py",
   "mimetype": "text/x-python",
   "name": "python",
   "nbconvert_exporter": "python",
   "pygments_lexer": "ipython3",
   "version": "3.11.5"
  }
 },
 "nbformat": 4,
 "nbformat_minor": 5
}
